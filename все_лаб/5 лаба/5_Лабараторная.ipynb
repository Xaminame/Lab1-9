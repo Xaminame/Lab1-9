{
  "nbformat": 4,
  "nbformat_minor": 0,
  "metadata": {
    "colab": {
      "provenance": []
    },
    "kernelspec": {
      "name": "python3",
      "display_name": "Python 3"
    },
    "language_info": {
      "name": "python"
    }
  },
  "cells": [
    {
      "cell_type": "markdown",
      "source": [
        "1 задание"
      ],
      "metadata": {
        "id": "bLBn6AZY0_yL"
      }
    },
    {
      "cell_type": "code",
      "source": [
        "from google.colab import drive\n",
        "drive.mount('/content/drive')"
      ],
      "metadata": {
        "id": "TI0prpunzSO5"
      },
      "execution_count": null,
      "outputs": []
    },
    {
      "cell_type": "code",
      "source": [
        "class Book:\n",
        "    def __init__(self, title, author, year):\n",
        "        self.title = title\n",
        "        self.author = author\n",
        "        self.year = year\n",
        "    def GetInfo(self):\n",
        "        return f\"Название книги: {self.title}. \\nАвтор: {self.author}. \\nГод издания: {self.year}\"\n",
        "Book = Book(\"Преступление и наказание\", \"Федор Михайлович Достоевский\", 1866)\n",
        "print(Book.GetInfo())"
      ],
      "metadata": {
        "colab": {
          "base_uri": "https://localhost:8080/"
        },
        "id": "iGZXQfeH1EqV",
        "outputId": "96010fae-67bb-49c0-ff0a-0945c71e7eba"
      },
      "execution_count": null,
      "outputs": [
        {
          "output_type": "stream",
          "name": "stdout",
          "text": [
            "Название книги: Преступление и наказание. \n",
            "Автор: Федор Михайлович Достоевский. \n",
            "Год издания: 1866\n"
          ]
        }
      ]
    },
    {
      "cell_type": "markdown",
      "source": [
        "2 задание"
      ],
      "metadata": {
        "id": "MiZzR1he3Ctt"
      }
    },
    {
      "cell_type": "code",
      "source": [
        "class Circle:\n",
        "    def __init__(self, radius):\n",
        "        self.radius = radius\n",
        "\n",
        "    def GetRadius(self):\n",
        "        return self.radius\n",
        "\n",
        "    def SetRadius(self, newRadius):\n",
        "        self.radius = newRadius\n",
        "\n",
        "circle = Circle(7)\n",
        "print(f\"Исходный радиус: {circle.GetRadius()}\")\n",
        "\n",
        "circle.SetRadius(int(input()))\n",
        "print(f\"Новый радиус: {circle.GetRadius()}\")"
      ],
      "metadata": {
        "colab": {
          "base_uri": "https://localhost:8080/"
        },
        "id": "IAVmbsGC3Fj9",
        "outputId": "24d83046-92c3-455d-85fc-59102f1c35f5"
      },
      "execution_count": null,
      "outputs": [
        {
          "output_type": "stream",
          "name": "stdout",
          "text": [
            "Исходный радиус: 7\n",
            "6\n",
            "Новый радиус: 6\n"
          ]
        }
      ]
    }
  ]
}