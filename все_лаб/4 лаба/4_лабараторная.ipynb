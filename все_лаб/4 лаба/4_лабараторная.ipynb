{
  "nbformat": 4,
  "nbformat_minor": 0,
  "metadata": {
    "colab": {
      "provenance": []
    },
    "kernelspec": {
      "name": "python3",
      "display_name": "Python 3"
    },
    "language_info": {
      "name": "python"
    }
  },
  "cells": [
    {
      "cell_type": "code",
      "execution_count": null,
      "metadata": {
        "id": "FcwCP0aLwP9J",
        "colab": {
          "base_uri": "https://localhost:8080/"
        },
        "outputId": "6ef338e2-9afd-49b2-8796-3bc781e1d972"
      },
      "outputs": [
        {
          "output_type": "stream",
          "name": "stdout",
          "text": [
            "81\n",
            "Квадратный корень числа 81 равен 9.0\n",
            "Текущая дата и время: 2024-12-16 17:15:09.476114\n"
          ]
        }
      ],
      "source": [
        "import math\n",
        "n = int(input())\n",
        "a = math.sqrt(n)\n",
        "print(f\"Квадратный корень числа {n} равен {a}\")\n",
        "\n",
        "Date = datetime.now()\n",
        "print(f\"Текущая дата и время: {Date}\")"
      ]
    },
    {
      "cell_type": "code",
      "source": [
        "from google.colab import drive\n",
        "drive.mount('/content/drive')"
      ],
      "metadata": {
        "colab": {
          "base_uri": "https://localhost:8080/"
        },
        "id": "GxOWzWs-ueIb",
        "outputId": "59ecafdb-092f-4f16-cd0f-01027c98583a"
      },
      "execution_count": null,
      "outputs": [
        {
          "output_type": "stream",
          "name": "stdout",
          "text": [
            "Drive already mounted at /content/drive; to attempt to forcibly remount, call drive.mount(\"/content/drive\", force_remount=True).\n"
          ]
        }
      ]
    },
    {
      "cell_type": "markdown",
      "source": [
        "2 задание"
      ],
      "metadata": {
        "id": "8OP6beNd2HM3"
      }
    },
    {
      "cell_type": "code",
      "source": [
        "import module\n",
        "a = int(input())\n",
        "b = int(input())\n",
        "result = module.add(a, b)\n",
        "print(f\"{a} + {b} = {result}\")"
      ],
      "metadata": {
        "colab": {
          "base_uri": "https://localhost:8080/"
        },
        "id": "0-8seoFA2I_k",
        "outputId": "7bd7e73e-706f-4978-bbed-72f4ab8843b7"
      },
      "execution_count": null,
      "outputs": [
        {
          "output_type": "stream",
          "name": "stdout",
          "text": [
            "3\n",
            "5\n",
            "3 + 5 = 8\n"
          ]
        }
      ]
    },
    {
      "cell_type": "markdown",
      "source": [
        "3 задание"
      ],
      "metadata": {
        "id": "-jeTpH7176tV"
      }
    },
    {
      "cell_type": "code",
      "source": [
        "from drive.MyDrive.Package import*\n",
        "print(module.add(2, 7))\n",
        "print(module1.vic(2, 7))\n",
        "\n"
      ],
      "metadata": {
        "id": "KgUd7Q2V79dh",
        "colab": {
          "base_uri": "https://localhost:8080/"
        },
        "outputId": "ffddca81-b3ec-40db-a655-7dd86a9662ca"
      },
      "execution_count": null,
      "outputs": [
        {
          "output_type": "stream",
          "name": "stdout",
          "text": [
            "8\n",
            "-5\n"
          ]
        }
      ]
    }
  ]
}