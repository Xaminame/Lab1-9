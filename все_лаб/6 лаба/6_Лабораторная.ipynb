{
  "nbformat": 4,
  "nbformat_minor": 0,
  "metadata": {
    "colab": {
      "provenance": []
    },
    "kernelspec": {
      "name": "python3",
      "display_name": "Python 3"
    },
    "language_info": {
      "name": "python"
    }
  },
  "cells": [
    {
      "cell_type": "code",
      "execution_count": null,
      "metadata": {
        "colab": {
          "base_uri": "https://localhost:8080/"
        },
        "id": "klnkzhs19m-e",
        "outputId": "1d5f44eb-3a2b-453d-cc2d-8fff01392894"
      },
      "outputs": [
        {
          "output_type": "stream",
          "name": "stdout",
          "text": [
            "Введите имя пользователя:\n",
            "Xami\n",
            "Введите почту:\n",
            "Xaminame\n",
            "Введите пароль:\n",
            "12345\n",
            "Имя пользователя: Xami\n",
            "Почта: Xaminame\n",
            "Введите новый пароль: \n",
            "123\n",
            "Введите новый пароль для проверки: \n",
            "134\n",
            "False\n"
          ]
        }
      ],
      "source": [
        "class UserAccount:\n",
        "  def __init__(self, username, email, password):\n",
        "    self.username = username\n",
        "    self.email = email\n",
        "    self.__password = password\n",
        "  def SetPassword(self, newPassword):\n",
        "    self.__password = newPassword\n",
        "  def CheckPassword(self, password):\n",
        "    return password == self.__password\n",
        "print(\"Введите имя пользователя:\")\n",
        "username = input()\n",
        "print(\"Введите почту:\")\n",
        "email = input()\n",
        "print(\"Введите пароль:\")\n",
        "password = input()\n",
        "user = UserAccount(username, email, password)\n",
        "print(f\"Имя пользователя: {user.username}\\nПочта: {user.email}\")\n",
        "print(\"Введите новый пароль: \")\n",
        "user.SetPassword(input())\n",
        "print(\"Введите новый пароль для проверки: \")\n",
        "if user.CheckPassword(input()):\n",
        "    print(\"True\")\n",
        "else:\n",
        "    print(\"False\")"
      ]
    },
    {
      "cell_type": "markdown",
      "source": [
        "2 задание"
      ],
      "metadata": {
        "id": "3kBVNPKM_p6h"
      }
    },
    {
      "cell_type": "code",
      "source": [
        "class Vehicle:\n",
        "    def __init__(self, make, model):\n",
        "        self.make = make\n",
        "        self.model = model\n",
        "    def GetInfo(self):\n",
        "        return f\"Марка: {self.make}, Модель: {self.model}\"\n",
        "class Car(Vehicle):\n",
        "    def __init__(self, make, model, fueltype):\n",
        "        super().__init__(make, model)\n",
        "        self.fueltype = fueltype\n",
        "    def GetInfo(self):\n",
        "        return f\"{super().GetInfo()}, Тип топлива: {self.fueltype}\"\n",
        "print(\"Введите марку автомобиля:\")\n",
        "make = input()\n",
        "print(\"Введите модель автомобиля:\")\n",
        "model = input()\n",
        "print(\"Введите тип топлива:\")\n",
        "fueltype = input()\n",
        "car = Car(make, model, fueltype)\n",
        "print(car.GetInfo())"
      ],
      "metadata": {
        "colab": {
          "base_uri": "https://localhost:8080/"
        },
        "id": "MZV7eZVB_rRy",
        "outputId": "ecd15233-21e1-4a2a-9e4c-b3e4354b05ce"
      },
      "execution_count": null,
      "outputs": [
        {
          "output_type": "stream",
          "name": "stdout",
          "text": [
            "Введите марку автомобиля:\n",
            "Lamba\n",
            "Введите модель автомобиля:\n",
            "Urus\n",
            "Введите тип топлива:\n",
            "100\n",
            "Марка: Lamba, Модель: Urus, Тип топлива: 100\n"
          ]
        }
      ]
    }
  ]
}