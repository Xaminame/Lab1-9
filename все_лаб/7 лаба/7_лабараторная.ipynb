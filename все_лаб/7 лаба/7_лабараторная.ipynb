{
  "nbformat": 4,
  "nbformat_minor": 0,
  "metadata": {
    "colab": {
      "provenance": []
    },
    "kernelspec": {
      "name": "python3",
      "display_name": "Python 3"
    },
    "language_info": {
      "name": "python"
    }
  },
  "cells": [
    {
      "cell_type": "code",
      "execution_count": null,
      "metadata": {
        "colab": {
          "base_uri": "https://localhost:8080/"
        },
        "id": "9KC_H_kjq0ZC",
        "outputId": "ac455cef-db05-4c71-bcec-51b9ea02a74a"
      },
      "outputs": [
        {
          "output_type": "stream",
          "name": "stdout",
          "text": [
            "В тим техменеджера добавлены:\n",
            "Имя: Дима, Идент: 12345\n",
            "Имя: Матвейка, Идент: 23456, Отдел: Уборщик\n",
            "Имя: Игорь, Идент: 34567, Спец: Инженер\n",
            "Имя: Юра, Идент: 45678, Отдел: Разработки, Спец: Работник\n",
            "Имя: Дима, Идент: 12345\n",
            "Имя : Матвейка, Отдел: Уборщик\n",
            "Имя: Матвейка, Идент: 23456, Отдел: Уборщик\n",
            "Игорь, Спец: Инженер\n",
            "Имя: Игорь, Идент: 34567, Спец: Инженер\n",
            "Имя : Юра, Отдел: Разработки\n",
            "Имя: Юра, Идент: 45678, Отдел: Разработки, Спец: Работник\n",
            "Юра, Спец: Работник\n"
          ]
        }
      ],
      "source": [
        "class Employee:\n",
        "  def __init__(self, name, Id):\n",
        "    self.name = name\n",
        "    self.Id = Id\n",
        "  def get_info(self):\n",
        "    return f\"Имя: {self.name}, Идент: {self.Id}\"\n",
        "\n",
        "class Manager(Employee):\n",
        "  def __init__(self, name, Id, department):\n",
        "    Employee.__init__(self, name, Id)\n",
        "    self.department = department\n",
        "  def manager_project(self):\n",
        "    return f\"Имя : {self.name}, Отдел: {self.department}\"\n",
        "  def get_info(self):\n",
        "    return f\"{Employee.get_info(self)}, Отдел: {self.department}\"\n",
        "\n",
        "class Technician(Employee):\n",
        "  def __init__(self, name, Id, specialization):\n",
        "    Employee.__init__(self, name, Id)\n",
        "    self.specialization = specialization\n",
        "  def perform_maintenance(self):\n",
        "    return f\"{self.name}, Спец: {self.specialization}\"\n",
        "  def get_info(self):\n",
        "    return f\"{Employee.get_info(self)}, Спец: {self.specialization}\"\n",
        "\n",
        "class TechManager(Manager, Technician):\n",
        "    def __init__(self, name, Id, department, specialization):\n",
        "      Manager.__init__(self, name, Id, department)\n",
        "      Technician.__init__(self, name, Id, specialization)\n",
        "      self.team = []\n",
        "\n",
        "    def get_info(self):\n",
        "      return f\"{super().get_info()}, Спец: {self.specialization}\"\n",
        "\n",
        "    def add_employee(self, person):\n",
        "      self.team.append(person)\n",
        "\n",
        "    def get_team_info(self):\n",
        "      info = [i.get_info() for i in self.team]\n",
        "      return \"\\n\".join(info)\n",
        "\n",
        "employee = Employee(\"Дима\", 12345)\n",
        "manager = Manager(\"Матвейка\", 23456, \"Уборщик\")\n",
        "technician = Technician(\"Игорь\", 34567, \"Инженер\")\n",
        "techmanager = TechManager(\"Юра\", 45678, \"Разработки\", \"Работник\")\n",
        "\n",
        "techmanager.add_employee(employee)\n",
        "techmanager.add_employee(manager)\n",
        "techmanager.add_employee(technician)\n",
        "techmanager.add_employee(techmanager)\n",
        "print(\"В тим техменеджера добавлены:\" '\\n' + techmanager.get_team_info())\n",
        "\n",
        "print(employee.get_info())\n",
        "print(manager.manager_project())\n",
        "print(manager.get_info())\n",
        "print(technician.perform_maintenance())\n",
        "print(technician.get_info())\n",
        "print(techmanager.manager_project())\n",
        "print(techmanager.get_info())\n",
        "print(techmanager.perform_maintenance())"
      ]
    }
  ]
}