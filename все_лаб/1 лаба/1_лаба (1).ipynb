{
  "nbformat": 4,
  "nbformat_minor": 0,
  "metadata": {
    "colab": {
      "provenance": []
    },
    "kernelspec": {
      "name": "python3",
      "display_name": "Python 3"
    },
    "language_info": {
      "name": "python"
    }
  },
  "cells": [
    {
      "cell_type": "code",
      "source": [
        "#Лабороторная работа №1. Задание №1\n",
        "#Группа БВТ2403 - Кузнецов Иван\n",
        "number = int(input(\"Введите число: \"))\n",
        "for i in range(1, number + 1):\n",
        "    print(i)"
      ],
      "metadata": {
        "colab": {
          "base_uri": "https://localhost:8080/"
        },
        "id": "m1G27Jq2QnHK",
        "outputId": "bd8b8cf1-a835-4d29-bf24-940e6695dd8e"
      },
      "execution_count": null,
      "outputs": [
        {
          "output_type": "stream",
          "name": "stdout",
          "text": [
            "Введите число: 6\n",
            "1\n",
            "2\n",
            "3\n",
            "4\n",
            "5\n",
            "6\n"
          ]
        }
      ]
    },
    {
      "cell_type": "code",
      "execution_count": null,
      "metadata": {
        "colab": {
          "base_uri": "https://localhost:8080/"
        },
        "id": "xotY4psdQIcB",
        "outputId": "b15c1abe-837d-4a95-c7e1-3e5a06b0f6e1"
      },
      "outputs": [
        {
          "output_type": "stream",
          "name": "stdout",
          "text": [
            "Введите первое число: 6\n",
            "Введите второе число: 8\n",
            "Большее число: 8\n"
          ]
        }
      ],
      "source": [
        "#Лабороторная работа №1. Задание №2\n",
        "#Группа БВТ2403 - Кузнецов Иван\n",
        "one_n = int(input(\"Введите первое число: \"))\n",
        "two_n = int(input(\"Введите второе число: \"))\n",
        "if one_n > two_n:\n",
        "    print(f\"Большее число: {one_n}\")\n",
        "else:\n",
        "    print(f\"Большее число: {two_n}\")"
      ]
    }
  ]
}